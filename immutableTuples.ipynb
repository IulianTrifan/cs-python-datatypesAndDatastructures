{
 "cells": [
  {
   "cell_type": "markdown",
   "metadata": {},
   "source": [
    "## Python data structures: lists vs tuples\n",
    "\n",
    "### lists: \n",
    "sequential collections of homogeneous (the same) data types\n",
    "\n",
    "eg. Lists of numbers, lists of names, lists of list\n",
    "\n",
    "```python\n",
    "myList = [1,2,5,4,5]\n",
    "```\n",
    "\n",
    "Lists are mutable sequences, indexed from 0\n",
    "\n",
    "### tuples:\n",
    "sequential colleges of heterogenous (different) data types\n",
    "\n",
    "```python\n",
    "myTuple = (1, \"apple\", True)\n",
    "```\n",
    "\n",
    "A tuple is an assortment of data, separated by commas, which makes it similar to the Python list, but a tuple is fundamentally different in that a tuple is \"immutable.\" This means that it cannot be changed, modified, or manipulated.\n",
    "\n",
    "Tuples can also be indexed, from 0, for example\n",
    "``` python\n",
    "for i in range(len(myTuple)):\n",
    "    print(myTuple[i])\n",
    " ```"
   ]
  },
  {
   "cell_type": "markdown",
   "metadata": {},
   "source": [
    "## Exercise: \n",
    "\n"
   ]
  },
  {
   "cell_type": "code",
   "execution_count": 3,
   "metadata": {},
   "outputs": [
    {
     "name": "stdout",
     "output_type": "stream",
     "text": [
      "1\n",
      "apple\n",
      "True\n",
      "Iulian\n"
     ]
    }
   ],
   "source": [
    "myTuple = (1, \"apple\", True, \"Iulian\")\n",
    "\n",
    "for i in range(len(myTuple)):\n",
    "    print(myTuple[i])"
   ]
  },
  {
   "cell_type": "markdown",
   "metadata": {},
   "source": [
    "## can we change the value of an item in a tuple?"
   ]
  },
  {
   "cell_type": "code",
   "execution_count": 5,
   "metadata": {},
   "outputs": [
    {
     "data": {
      "text/plain": [
       "True"
      ]
     },
     "execution_count": 5,
     "metadata": {},
     "output_type": "execute_result"
    }
   ],
   "source": [
    "myTuple = (1, \"apple\", True)\n",
    "myTuple[2] = False\n",
    "#it cannot be changed"
   ]
  },
  {
   "cell_type": "markdown",
   "metadata": {},
   "source": [
    "## Using tuples in Python\n",
    "\n",
    "A good example of where tuples are useful and used is in timing.  A datetime object is a good example of a tuple as it\n",
    "\n",
    "1) Has a variety of data: years, months, days, hours, mins, seconds, milliseconds\n",
    "\n",
    "2) Will not change. If you get a time reading, that is it. You'd take another one at another time. Each time is unique for that day/month/year/etc"
   ]
  },
  {
   "cell_type": "code",
   "execution_count": 7,
   "metadata": {},
   "outputs": [
    {
     "name": "stdout",
     "output_type": "stream",
     "text": [
      "time.struct_time(tm_year=2019, tm_mon=9, tm_mday=19, tm_hour=13, tm_min=49, tm_sec=55, tm_wday=3, tm_yday=262, tm_isdst=0)\n",
      "2019\n",
      "9\n",
      "19\n",
      "13\n",
      "49\n",
      "55\n",
      "3\n",
      "262\n",
      "0\n"
     ]
    }
   ],
   "source": [
    "import time\n",
    "\n",
    "timeNow=time.localtime()\n",
    "\n",
    "print(timeNow)\n",
    "\n",
    "for i in range (len(timeNow)):\n",
    "    print(timeNow[i])\n"
   ]
  },
  {
   "cell_type": "markdown",
   "metadata": {},
   "source": [
    "## the ```struct_time``` tuple explained:\n",
    "\n",
    "It is an object with a named tuple interface: values can be accessed by index and by attribute name. The following values are present:\n",
    "\n",
    "Index|Attribute\t|Values\n",
    "---|---|---|\n",
    "0\t|tm_year\t|(for example, 1993)\n",
    "1\t|tm_mon\t|range [1, 12]\n",
    "2\t|tm_mday\t|range [1, 31]\n",
    "3\t|tm_hour\t|range [0, 23]\n",
    "4\t|tm_min\t|range [0, 59]\n",
    "5\t|tm_sec\t|range [0, 61] \n",
    "6\t|tm_wday\t|range [0, 6], Monday is 0\n",
    "7\t|tm_yday\t|range [1, 366]\n",
    "8\t|tm_isdst\t|0, 1 or -1; see below\n",
    "\n",
    "tm_isdst may be set to 1 when daylight savings time is in effect, and 0 when it is not. A value of -1 indicates that this is not known, and will usually result in the correct state being filled in."
   ]
  },
  {
   "cell_type": "markdown",
   "metadata": {},
   "source": [
    "## Another way to define a time :\n",
    "\n",
    "Time can also be defined as the time in seconds since the **epoch** as a floating point number\n",
    "\n",
    "The **epoch** is January 1, 1970, 00:00:00 (UTC)\n"
   ]
  },
  {
   "cell_type": "code",
   "execution_count": 8,
   "metadata": {},
   "outputs": [
    {
     "data": {
      "text/plain": [
       "1568901114.7814999"
      ]
     },
     "execution_count": 8,
     "metadata": {},
     "output_type": "execute_result"
    }
   ],
   "source": [
    "time.time()"
   ]
  },
  {
   "cell_type": "markdown",
   "metadata": {},
   "source": [
    "## converting  ```time_struct``` time into epoch time"
   ]
  },
  {
   "cell_type": "code",
   "execution_count": 9,
   "metadata": {},
   "outputs": [
    {
     "data": {
      "text/plain": [
       "946771200.0"
      ]
     },
     "execution_count": 9,
     "metadata": {},
     "output_type": "execute_result"
    }
   ],
   "source": [
    "#construct a time_struct object with year, month, day, hour, min, sec, weekday, yearday, isdaylightsavings\n",
    "# note: 9 arguments!\n",
    "myBday= (2000, 1,2,0,0,0,3,2,0)\n",
    "#convert the time_struct into an epoch time\n",
    "time.mktime(myBday)\n"
   ]
  },
  {
   "cell_type": "markdown",
   "metadata": {},
   "source": [
    "## Time exercise:\n",
    "\n",
    "How long until your next birthday?\n",
    "\n",
    "- allow the user to enter their birthday as a day (1-31) month(1-12) and year of birth (e.g. 2001)\n",
    "- convert this to an epoch time\n",
    "- take the time now\n",
    "- tell the user how many:\n",
    "    - months\n",
    "    - days\n",
    "    - hours\n",
    "    - minutes\n",
    "    - seconds\n",
    "    - milliseconds\n",
    "\n",
    "until their next birthday\n",
    "       "
   ]
  },
  {
   "cell_type": "code",
   "execution_count": 10,
   "metadata": {},
   "outputs": [],
   "source": [
    "#a function to work out the time until the user's next birthday\n",
    "# this function takes one parameter: birthday whoch is a struct_time tupe\n",
    "def nextBirthday (birthday):\n",
    "    months =0\n",
    "    days = 0\n",
    "    hours = 0\n",
    "    mins=0\n",
    "    secs=0\n",
    "    millis=0\n",
    "    # work out the values here\n",
    "    \n",
    "    return months, days, hours, mins, secs, millis"
   ]
  },
  {
   "cell_type": "code",
   "execution_count": 17,
   "metadata": {},
   "outputs": [
    {
     "name": "stdout",
     "output_type": "stream",
     "text": [
      "what year were you born?2002\n",
      "what month were you born in ? 1 - 1212\n",
      "what day of the month were you born in?13\n",
      "-529164423.94313526\n",
      "-529164423.9436133\n",
      "your next birthday is in 0 months and 0 days and 0h and 0m and 0s and 0ms\n"
     ]
    }
   ],
   "source": [
    "## test the nextBirthday function\n",
    "#ask the user to enter their birthday informtion\n",
    "def nextBirthday (userBday):\n",
    "    \n",
    "    time.time()\n",
    "    \n",
    "    time.mktime(userBday)\n",
    "    \n",
    "    time_left = time.mktime(userBday) - time.time()\n",
    "    \n",
    "    print (time_left)\n",
    "    \n",
    " \n",
    "    # work out the values here\n",
    "    \n",
    "    return months, days, hours, mins, secs, millis\n",
    "\n",
    "year = int(input(\"what year were you born?\"))\n",
    "month= int(input(\"what month were you born in ? 1 - 12\"))\n",
    "day= int(input(\"what day of the month were you born in?\"))\n",
    "\n",
    "#construct the time_struct tuple - assume all the other values are 0\n",
    "\n",
    "userBday = (year, month, day,0,0,0,0,0,0)\n",
    "\n",
    "nextBirthday(userBday)\n",
    "\n",
    "months, days, hours, mins, secs, millis = nextBirthday(userBday)\n",
    "\n",
    "print(\"your next birthday is in {} months and {} days and {}h and {}m and {}s and {}ms\".format(months, days, hours, mins, secs, millis))\n",
    "\n",
    "\n"
   ]
  }
 ],
 "metadata": {
  "kernelspec": {
   "display_name": "Python 3",
   "language": "python",
   "name": "python3"
  },
  "language_info": {
   "codemirror_mode": {
    "name": "ipython",
    "version": 3
   },
   "file_extension": ".py",
   "mimetype": "text/x-python",
   "name": "python",
   "nbconvert_exporter": "python",
   "pygments_lexer": "ipython3",
   "version": "3.6.8"
  }
 },
 "nbformat": 4,
 "nbformat_minor": 2
}
